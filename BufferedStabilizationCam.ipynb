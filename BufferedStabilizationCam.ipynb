{
 "cells": [
  {
   "cell_type": "code",
   "execution_count": 2,
   "metadata": {},
   "outputs": [
    {
     "name": "stdout",
     "output_type": "stream",
     "text": [
      "Populating the interactive namespace from numpy and matplotlib\n",
      "The autoreload extension is already loaded. To reload it, use:\n",
      "  %reload_ext autoreload\n"
     ]
    }
   ],
   "source": [
    "%pylab inline\n",
    "#Autoreload so changing py files works\n",
    "%load_ext autoreload\n",
    "%autoreload 2\n",
    "from Util import *\n",
    "from superpoint import *"
   ]
  },
  {
   "cell_type": "code",
   "execution_count": null,
   "metadata": {},
   "outputs": [],
   "source": [
    "inputpath = 0\n",
    "resize = False#(800, 600)\n",
    "skip = 1\n",
    "buffer = 5\n",
    "max_frames = 99999\n",
    "show = True\n",
    "flip = False\n",
    "\n",
    "\n",
    "extractor = SIFTFeatureExtractor()\n",
    "matcher = BFMatcherHomographyGenerator()\n",
    "\n",
    "def read():\n",
    "    ret, frame = cap.read()\n",
    "    if flip and frame.shape[0] < frame.shape[1]:\n",
    "        frame = cv2.transpose(frame)\n",
    "        frame = cv2.flip(frame, 1)\n",
    "    if resize:\n",
    "        frame = cv2.resize(frame, resize)\n",
    "    gray = cv2.cvtColor(frame, cv2.COLOR_BGR2GRAY)\n",
    "    color = frame#cv2.cvtColor(frame, cv2.COLOR_BGR2RGB)\n",
    "    return color, gray\n",
    "\n",
    "frames = []\n",
    "cap = cv2.VideoCapture(inputpath)\n",
    "correctedFrames = []\n",
    "count = 0\n",
    "H = np.array([[1,0,0],[0,1,0],[0,0,1]])\n",
    "\n",
    "#Read first frame\n",
    "color1, gray1 = read()\n",
    "correctedFrames.append(color1)\n",
    "kps1, desc1 = extractor.extractFeatures(gray1)\n",
    "frames.append(gray1)\n",
    "\n",
    "while cap.isOpened():\n",
    "    #Read in next frame\n",
    "    color2, gray2 = read()\n",
    "    count = count + 1\n",
    "    #Allow frame skipping\n",
    "    if count > max_frames: break\n",
    "    if count % skip == 0:\n",
    "        if len(frames) < buffer:\n",
    "            frames.append(gray2)\n",
    "            kps2, desc2 = extractor.extractFeatures(gray2)\n",
    "            HG = matcher.findHomography(kps2, desc2, kps1, desc1)\n",
    "            H = H @ HG\n",
    "            corrected = cv2.warpPerspective(color2, H, (color2.shape[1], color2.shape[0]))\n",
    "            kps1 = kps2\n",
    "            desc1 = desc2\n",
    "        else:\n",
    "            del frames[0]\n",
    "            frames.append(gray2)\n",
    "            H = np.array([[1,0,0],[0,1,0],[0,0,1]])\n",
    "            kps1, desc1 = extractor.extractFeatures(frames[0])\n",
    "            for i in range(1, len(frames)):\n",
    "                kps2, desc2 = extractor.extractFeatures(frames[i])\n",
    "                HG = matcher.findHomography(kps2, desc2, kps1, desc1)\n",
    "                H = H @ HG\n",
    "                kps1 = kps2\n",
    "                desc1 = desc2\n",
    "            corrected = cv2.warpPerspective(color2, H, (color2.shape[1], color2.shape[0]))\n",
    "        \n",
    "        correctedFrames.append(corrected)\n",
    "        \n",
    "        if show:\n",
    "            cv2.imshow('frame', corrected)\n",
    "    #Press space to end\n",
    "    if cv2.waitKey(32) == 32:\n",
    "        break\n",
    "    \n",
    "cap.release()"
   ]
  }
 ],
 "metadata": {
  "kernelspec": {
   "display_name": "Python 3",
   "language": "python",
   "name": "python3"
  },
  "language_info": {
   "codemirror_mode": {
    "name": "ipython",
    "version": 3
   },
   "file_extension": ".py",
   "mimetype": "text/x-python",
   "name": "python",
   "nbconvert_exporter": "python",
   "pygments_lexer": "ipython3",
   "version": "3.6.6"
  }
 },
 "nbformat": 4,
 "nbformat_minor": 2
}
