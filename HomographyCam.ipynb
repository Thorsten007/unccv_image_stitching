{
 "cells": [
  {
   "cell_type": "code",
   "execution_count": 4,
   "metadata": {},
   "outputs": [
    {
     "name": "stdout",
     "output_type": "stream",
     "text": [
      "Populating the interactive namespace from numpy and matplotlib\n",
      "The autoreload extension is already loaded. To reload it, use:\n",
      "  %reload_ext autoreload\n"
     ]
    },
    {
     "name": "stderr",
     "output_type": "stream",
     "text": [
      "C:\\Users\\MasterMatthew\\Anaconda3\\lib\\site-packages\\IPython\\core\\magics\\pylab.py:160: UserWarning: pylab import has clobbered these variables: ['random']\n",
      "`%matplotlib` prevents importing * from pylab and numpy\n",
      "  \"\\n`%matplotlib` prevents importing * from pylab and numpy\"\n"
     ]
    }
   ],
   "source": [
    "%pylab inline\n",
    "#Autoreload so changing py files works\n",
    "%load_ext autoreload\n",
    "%autoreload 2\n",
    "import gc, os, math, random\n",
    "\n",
    "from IPython.display import Image, display, clear_output\n",
    "import cv2\n",
    "import time\n",
    "\n",
    "from Util import *"
   ]
  },
  {
   "cell_type": "code",
   "execution_count": 7,
   "metadata": {},
   "outputs": [],
   "source": [
    "class BaseFeatureExtractor:\n",
    "    def __init__(self):\n",
    "        pass\n",
    "    def extractFeatures(image):\n",
    "        #Returns a list of key points and descriptors\n",
    "        pass\n",
    "    \n",
    "class BaseHomographyGenerator:\n",
    "    def __init__(self):\n",
    "        pass\n",
    "    def findHomography(kp1, desc1, kp2, desc2):\n",
    "        #Returns a Homography\n",
    "        pass\n",
    "    \n",
    "class SIFTFeatureExtractor(BaseFeatureExtractor):\n",
    "    def __init__(self):\n",
    "        self.sift = cv2.xfeatures2d.SIFT_create()\n",
    "    def extractFeatures(image):\n",
    "        return sift.detectAndCompute(image, None)\n",
    "    \n",
    "class BFMatcherHomographyGenerator:\n",
    "    def __init__(self):\n",
    "        self.matcher = cv2.BFMatcher()\n",
    "        pass\n",
    "    def findHomography(kp1, desc1, kp2, desc2):\n",
    "        matches =  matcher.knnMatch(desc1, desc2, k=2)\n",
    "        good = []\n",
    "        for m in matches:\n",
    "            if m[0].distance < 0.5 * m[1].distance:\n",
    "                good.append(m)\n",
    "        matches = np.asarray(good)\n",
    "        src = np.float32([ kp1[m.queryIdx].pt for m in matches[:,0] ]).reshape(-1,1,2)\n",
    "        dst = np.float32([ kp2[m.trainIdx].pt for m in matches[:,0] ]).reshape(-1,1,2)\n",
    "        H, masked = cv2.findHomography(src, dst, cv2.RANSAC, 5.0)\n",
    "        return H"
   ]
  },
  {
   "cell_type": "code",
   "execution_count": 6,
   "metadata": {},
   "outputs": [],
   "source": [
    "featureExtractor = SIFTFeatureExtractor()\n",
    "homographyGenerator = BFMatcherHomographyGenerator()"
   ]
  },
  {
   "cell_type": "code",
   "execution_count": null,
   "metadata": {},
   "outputs": [],
   "source": [
    "cap = cv2.VideoCapture(0)\n",
    "\n",
    "def read():\n",
    "    ret, frame = cap.read()\n",
    "    frame = cv2.transpose(frame)\n",
    "    frame = cv2.flip(frame, 1)\n",
    "    gray = cv2.cvtColor(frame, cv2.COLOR_BGR2GRAY)\n",
    "    color = cv2.cvtColor(frame, cv2.COLOR_BGR2RGB)\n",
    "    return color, gray\n",
    "\n",
    "#First frame should be an identity matrix\n",
    "H1 = np.array([[1,0,0],[0,1,0],[0,0,1]])\n",
    "#Read first frame\n",
    "color, gray = read()\n",
    "#Extract features from first frame\n",
    "kp1, desc1 = featureExtractor.extractFeatures(gray)\n",
    "#TODO: print original image\n",
    "\n",
    "while cap.isOpened():\n",
    "    #Read next frame\n",
    "    color, gray = read()\n",
    "    #Extract features from the next frame\n",
    "    kp2, desc2 = sift.detectAndCompute(gray, None)\n",
    "    #Get the homography between the previous frame and the current\n",
    "    H2 = findHomography(kp1, desc1, kp2, desc2)\n",
    "    #Invert homography\n",
    "    H2 = np.linalg.inv(H2)\n",
    "    #Multiply previous homography with current homography\n",
    "    H1 = np.multiply(H1, H2)\n",
    "    \n",
    "    clear_output(wait=True)\n",
    "    print(H1)\n",
    "    \n",
    "    if cv2.waitKey(32) == 32:\n",
    "        break"
   ]
  },
  {
   "cell_type": "code",
   "execution_count": null,
   "metadata": {},
   "outputs": [],
   "source": []
  }
 ],
 "metadata": {
  "kernelspec": {
   "display_name": "Python 3",
   "language": "python",
   "name": "python3"
  },
  "language_info": {
   "codemirror_mode": {
    "name": "ipython",
    "version": 3
   },
   "file_extension": ".py",
   "mimetype": "text/x-python",
   "name": "python",
   "nbconvert_exporter": "python",
   "pygments_lexer": "ipython3",
   "version": "3.6.6"
  }
 },
 "nbformat": 4,
 "nbformat_minor": 2
}
