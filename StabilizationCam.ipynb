{
 "cells": [
  {
   "cell_type": "code",
   "execution_count": 2,
   "metadata": {},
   "outputs": [
    {
     "name": "stdout",
     "output_type": "stream",
     "text": [
      "Populating the interactive namespace from numpy and matplotlib\n"
     ]
    },
    {
     "name": "stderr",
     "output_type": "stream",
     "text": [
      "C:\\Users\\MasterMatthew\\Anaconda3\\lib\\site-packages\\IPython\\core\\magics\\pylab.py:160: UserWarning: pylab import has clobbered these variables: ['show', 'resize', 'flip']\n",
      "`%matplotlib` prevents importing * from pylab and numpy\n",
      "  \"\\n`%matplotlib` prevents importing * from pylab and numpy\"\n"
     ]
    }
   ],
   "source": [
    "%pylab inline\n",
    "#Autoreload so changing py files works\n",
    "%load_ext autoreload\n",
    "%autoreload 2\n",
    "from Util import *\n",
    "from superpoint import *\n",
    "#Required for SuperPoint\n",
    "#from VideoStabilization import *"
   ]
  },
  {
   "cell_type": "code",
   "execution_count": 3,
   "metadata": {},
   "outputs": [],
   "source": [
    "#Path to input video (0 to use webcam)\n",
    "inputpath = 0#'data/chair.mp4'\n",
    "#Set resize to a tuple to resize frames\n",
    "resize = False#(800, 450)\n",
    "#Modulus\n",
    "skip = 1\n",
    "#Total frames that should be ran\n",
    "max_frames = 9999\n",
    "#Show images as they are corrected in a CV frame\n",
    "show = True\n",
    "#Enable flipping if images aren't in landscape format\n",
    "flip = False\n",
    "\n",
    "#Uses SuperPoint WARNING: May not work properly!\n",
    "SUPERPOINT=False\n",
    "if SUPERPOINT:\n",
    "    extractor = SUPERFeatureExtractor()\n",
    "else:\n",
    "    extractor = SIFTFeatureExtractor()\n",
    "    matcher = BFMatcherHomographyGenerator()\n",
    "\n",
    "#Reads in frames\n",
    "def read():\n",
    "    ret, frame = cap.read()\n",
    "    if flip and frame.shape[0] < frame.shape[1]:\n",
    "        frame = cv2.transpose(frame)\n",
    "        frame = cv2.flip(frame, 1)\n",
    "    if resize:\n",
    "        frame = cv2.resize(frame, resize)\n",
    "    gray = cv2.cvtColor(frame, cv2.COLOR_BGR2GRAY)\n",
    "    color = frame#cv2.cvtColor(frame, cv2.COLOR_BGR2RGB)\n",
    "    return color, gray\n",
    "\n",
    "cap = cv2.VideoCapture(inputpath)\n",
    "correctedFrames = []\n",
    "count = 0\n",
    "H = np.array([[1,0,0],[0,1,0],[0,0,1]])\n",
    "\n",
    "#Read first frame\n",
    "color1, gray1 = read()\n",
    "correctedFrames.append(color1)\n",
    "if SUPERPOINT:\n",
    "    kps1, desc1, heatmap1 = extractor.extractFeatures(gray1)\n",
    "else:\n",
    "    kps1, desc1 = extractor.extractFeatures(gray1)\n",
    "\n",
    "while cap.isOpened():\n",
    "    #Read in next frame\n",
    "    color2, gray2 = read()\n",
    "    count = count + 1\n",
    "    #Allow frame skipping\n",
    "    if count > max_frames: break\n",
    "    if count % skip == 0:\n",
    "        #Extract features and find Homography\n",
    "        if SUPERPOINT:\n",
    "            kps2, desc2, heatmap2 = extractor.extractFeatures(gray2)\n",
    "            matches = match(desc1, desc2)\n",
    "            pair1, pair2 = convertToPoints(kps1, kps2, matches)\n",
    "            HG, mask = cv2.findHomography(pair2, pair1, cv2.RANSAC, 5.0)\n",
    "        else:\n",
    "            kps2, desc2 = extractor.extractFeatures(gray2)\n",
    "            HG = matcher.findHomography(kps2, desc2, kps1, desc1)\n",
    "        #Multiply new Homography with previous Homography\n",
    "        H = H @ HG\n",
    "        #Warp image by homography\n",
    "        corrected = cv2.warpPerspective(color2, H, (color2.shape[1], color2.shape[0]))\n",
    "        correctedFrames.append(corrected)\n",
    "        kps1 = kps2\n",
    "        desc1 = desc2\n",
    "        #Render to CV frame\n",
    "        if show:\n",
    "            cv2.imshow('frame', corrected)\n",
    "    #Press space to end\n",
    "    if cv2.waitKey(32) == 32:\n",
    "        break\n",
    "    \n",
    "cap.release()"
   ]
  },
  {
   "cell_type": "code",
   "execution_count": null,
   "metadata": {},
   "outputs": [],
   "source": []
  }
 ],
 "metadata": {
  "kernelspec": {
   "display_name": "Python 3",
   "language": "python",
   "name": "python3"
  },
  "language_info": {
   "codemirror_mode": {
    "name": "ipython",
    "version": 3
   },
   "file_extension": ".py",
   "mimetype": "text/x-python",
   "name": "python",
   "nbconvert_exporter": "python",
   "pygments_lexer": "ipython3",
   "version": "3.6.6"
  }
 },
 "nbformat": 4,
 "nbformat_minor": 2
}
